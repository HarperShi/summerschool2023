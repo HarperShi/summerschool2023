{
  "nbformat": 4,
  "nbformat_minor": 0,
  "metadata": {
    "colab": {
      "provenance": []
    },
    "kernelspec": {
      "name": "python3",
      "display_name": "Python 3"
    },
    "language_info": {
      "name": "python"
    }
  },
  "cells": [
    {
      "cell_type": "code",
      "execution_count": 1,
      "metadata": {
        "colab": {
          "base_uri": "https://localhost:8080/"
        },
        "id": "ngdUb1ZvEG5B",
        "outputId": "7fa8a2ac-d19c-4858-8cd9-214dd991e122"
      },
      "outputs": [
        {
          "output_type": "stream",
          "name": "stdout",
          "text": [
            "Mounted at /content/drive\n"
          ]
        }
      ],
      "source": [
        "# mount Google Drive\n",
        "from google.colab import drive\n",
        "drive.mount('/content/drive')"
      ]
    },
    {
      "cell_type": "code",
      "source": [
        "import os\n",
        "import numpy as np\n",
        "import pandas as pd\n",
        "import seaborn as sns\n",
        "import matplotlib.pyplot as plt\n",
        "import csv"
      ],
      "metadata": {
        "id": "olSQ-TRvEqYO"
      },
      "execution_count": 2,
      "outputs": []
    },
    {
      "cell_type": "code",
      "source": [
        "%cd /content/drive/MyDrive/Colab_Notebooks/summerschool2023"
      ],
      "metadata": {
        "colab": {
          "base_uri": "https://localhost:8080/"
        },
        "id": "LHv24Q3HEhX-",
        "outputId": "69c8b196-67d6-4a74-c84a-9cdbce0ea346"
      },
      "execution_count": 48,
      "outputs": [
        {
          "output_type": "stream",
          "name": "stdout",
          "text": [
            "/content/drive/MyDrive/Colab_Notebooks/summerschool2023\n"
          ]
        }
      ]
    },
    {
      "cell_type": "code",
      "source": [
        "#Read objective evalution results\n",
        "df_resyn = pd.read_csv('result/summary_resyn.csv')\n",
        "df_degraded = pd.read_csv('result/summary_degraded.csv')"
      ],
      "metadata": {
        "id": "L4P8T7rVEtCH"
      },
      "execution_count": 4,
      "outputs": []
    },
    {
      "cell_type": "markdown",
      "source": [
        "## Mean and Standard deviation"
      ],
      "metadata": {
        "id": "KiFzLODnGY7o"
      }
    },
    {
      "cell_type": "code",
      "source": [
        "df_resyn"
      ],
      "metadata": {
        "colab": {
          "base_uri": "https://localhost:8080/",
          "height": 363
        },
        "id": "uJzcMWbjFQhG",
        "outputId": "2ce59623-a3e3-4aee-e500-9c3895b03d38"
      },
      "execution_count": 5,
      "outputs": [
        {
          "output_type": "execute_result",
          "data": {
            "text/plain": [
              "   Unnamed: 0        audio_file_name       MCD    F0_PCC      PESQ  MOSNet_MOS\n",
              "0           0   neutral_sent001_long  3.509604  0.804777  2.780573       2.972\n",
              "1           1  neutral_sent001_short  2.755415  0.703189  1.569872       3.224\n",
              "2           2   neutral_sent002_long  4.078117  0.602279  2.166164       3.076\n",
              "3           3  neutral_sent002_short  2.409424       NaN  2.510628       3.217\n",
              "4           4   neutral_sent003_long  3.257757  0.738487  2.452163       3.047\n",
              "5           5  neutral_sent003_short  1.627295  0.999926  3.630932       3.200\n",
              "6           6   neutral_sent004_long  3.265580  0.858530  2.291985       2.995\n",
              "7           7  neutral_sent004_short  3.406933  0.953940  2.655897       3.210\n",
              "8           8   neutral_sent005_long  2.971916  0.895596  1.978069       2.842\n",
              "9           9  neutral_sent005_short  2.411648  0.962911  2.871550       3.182"
            ],
            "text/html": [
              "\n",
              "  <div id=\"df-2ce23c67-0330-4483-a13e-246a03d17151\">\n",
              "    <div class=\"colab-df-container\">\n",
              "      <div>\n",
              "<style scoped>\n",
              "    .dataframe tbody tr th:only-of-type {\n",
              "        vertical-align: middle;\n",
              "    }\n",
              "\n",
              "    .dataframe tbody tr th {\n",
              "        vertical-align: top;\n",
              "    }\n",
              "\n",
              "    .dataframe thead th {\n",
              "        text-align: right;\n",
              "    }\n",
              "</style>\n",
              "<table border=\"1\" class=\"dataframe\">\n",
              "  <thead>\n",
              "    <tr style=\"text-align: right;\">\n",
              "      <th></th>\n",
              "      <th>Unnamed: 0</th>\n",
              "      <th>audio_file_name</th>\n",
              "      <th>MCD</th>\n",
              "      <th>F0_PCC</th>\n",
              "      <th>PESQ</th>\n",
              "      <th>MOSNet_MOS</th>\n",
              "    </tr>\n",
              "  </thead>\n",
              "  <tbody>\n",
              "    <tr>\n",
              "      <th>0</th>\n",
              "      <td>0</td>\n",
              "      <td>neutral_sent001_long</td>\n",
              "      <td>3.509604</td>\n",
              "      <td>0.804777</td>\n",
              "      <td>2.780573</td>\n",
              "      <td>2.972</td>\n",
              "    </tr>\n",
              "    <tr>\n",
              "      <th>1</th>\n",
              "      <td>1</td>\n",
              "      <td>neutral_sent001_short</td>\n",
              "      <td>2.755415</td>\n",
              "      <td>0.703189</td>\n",
              "      <td>1.569872</td>\n",
              "      <td>3.224</td>\n",
              "    </tr>\n",
              "    <tr>\n",
              "      <th>2</th>\n",
              "      <td>2</td>\n",
              "      <td>neutral_sent002_long</td>\n",
              "      <td>4.078117</td>\n",
              "      <td>0.602279</td>\n",
              "      <td>2.166164</td>\n",
              "      <td>3.076</td>\n",
              "    </tr>\n",
              "    <tr>\n",
              "      <th>3</th>\n",
              "      <td>3</td>\n",
              "      <td>neutral_sent002_short</td>\n",
              "      <td>2.409424</td>\n",
              "      <td>NaN</td>\n",
              "      <td>2.510628</td>\n",
              "      <td>3.217</td>\n",
              "    </tr>\n",
              "    <tr>\n",
              "      <th>4</th>\n",
              "      <td>4</td>\n",
              "      <td>neutral_sent003_long</td>\n",
              "      <td>3.257757</td>\n",
              "      <td>0.738487</td>\n",
              "      <td>2.452163</td>\n",
              "      <td>3.047</td>\n",
              "    </tr>\n",
              "    <tr>\n",
              "      <th>5</th>\n",
              "      <td>5</td>\n",
              "      <td>neutral_sent003_short</td>\n",
              "      <td>1.627295</td>\n",
              "      <td>0.999926</td>\n",
              "      <td>3.630932</td>\n",
              "      <td>3.200</td>\n",
              "    </tr>\n",
              "    <tr>\n",
              "      <th>6</th>\n",
              "      <td>6</td>\n",
              "      <td>neutral_sent004_long</td>\n",
              "      <td>3.265580</td>\n",
              "      <td>0.858530</td>\n",
              "      <td>2.291985</td>\n",
              "      <td>2.995</td>\n",
              "    </tr>\n",
              "    <tr>\n",
              "      <th>7</th>\n",
              "      <td>7</td>\n",
              "      <td>neutral_sent004_short</td>\n",
              "      <td>3.406933</td>\n",
              "      <td>0.953940</td>\n",
              "      <td>2.655897</td>\n",
              "      <td>3.210</td>\n",
              "    </tr>\n",
              "    <tr>\n",
              "      <th>8</th>\n",
              "      <td>8</td>\n",
              "      <td>neutral_sent005_long</td>\n",
              "      <td>2.971916</td>\n",
              "      <td>0.895596</td>\n",
              "      <td>1.978069</td>\n",
              "      <td>2.842</td>\n",
              "    </tr>\n",
              "    <tr>\n",
              "      <th>9</th>\n",
              "      <td>9</td>\n",
              "      <td>neutral_sent005_short</td>\n",
              "      <td>2.411648</td>\n",
              "      <td>0.962911</td>\n",
              "      <td>2.871550</td>\n",
              "      <td>3.182</td>\n",
              "    </tr>\n",
              "  </tbody>\n",
              "</table>\n",
              "</div>\n",
              "      <button class=\"colab-df-convert\" onclick=\"convertToInteractive('df-2ce23c67-0330-4483-a13e-246a03d17151')\"\n",
              "              title=\"Convert this dataframe to an interactive table.\"\n",
              "              style=\"display:none;\">\n",
              "        \n",
              "  <svg xmlns=\"http://www.w3.org/2000/svg\" height=\"24px\"viewBox=\"0 0 24 24\"\n",
              "       width=\"24px\">\n",
              "    <path d=\"M0 0h24v24H0V0z\" fill=\"none\"/>\n",
              "    <path d=\"M18.56 5.44l.94 2.06.94-2.06 2.06-.94-2.06-.94-.94-2.06-.94 2.06-2.06.94zm-11 1L8.5 8.5l.94-2.06 2.06-.94-2.06-.94L8.5 2.5l-.94 2.06-2.06.94zm10 10l.94 2.06.94-2.06 2.06-.94-2.06-.94-.94-2.06-.94 2.06-2.06.94z\"/><path d=\"M17.41 7.96l-1.37-1.37c-.4-.4-.92-.59-1.43-.59-.52 0-1.04.2-1.43.59L10.3 9.45l-7.72 7.72c-.78.78-.78 2.05 0 2.83L4 21.41c.39.39.9.59 1.41.59.51 0 1.02-.2 1.41-.59l7.78-7.78 2.81-2.81c.8-.78.8-2.07 0-2.86zM5.41 20L4 18.59l7.72-7.72 1.47 1.35L5.41 20z\"/>\n",
              "  </svg>\n",
              "      </button>\n",
              "      \n",
              "  <style>\n",
              "    .colab-df-container {\n",
              "      display:flex;\n",
              "      flex-wrap:wrap;\n",
              "      gap: 12px;\n",
              "    }\n",
              "\n",
              "    .colab-df-convert {\n",
              "      background-color: #E8F0FE;\n",
              "      border: none;\n",
              "      border-radius: 50%;\n",
              "      cursor: pointer;\n",
              "      display: none;\n",
              "      fill: #1967D2;\n",
              "      height: 32px;\n",
              "      padding: 0 0 0 0;\n",
              "      width: 32px;\n",
              "    }\n",
              "\n",
              "    .colab-df-convert:hover {\n",
              "      background-color: #E2EBFA;\n",
              "      box-shadow: 0px 1px 2px rgba(60, 64, 67, 0.3), 0px 1px 3px 1px rgba(60, 64, 67, 0.15);\n",
              "      fill: #174EA6;\n",
              "    }\n",
              "\n",
              "    [theme=dark] .colab-df-convert {\n",
              "      background-color: #3B4455;\n",
              "      fill: #D2E3FC;\n",
              "    }\n",
              "\n",
              "    [theme=dark] .colab-df-convert:hover {\n",
              "      background-color: #434B5C;\n",
              "      box-shadow: 0px 1px 3px 1px rgba(0, 0, 0, 0.15);\n",
              "      filter: drop-shadow(0px 1px 2px rgba(0, 0, 0, 0.3));\n",
              "      fill: #FFFFFF;\n",
              "    }\n",
              "  </style>\n",
              "\n",
              "      <script>\n",
              "        const buttonEl =\n",
              "          document.querySelector('#df-2ce23c67-0330-4483-a13e-246a03d17151 button.colab-df-convert');\n",
              "        buttonEl.style.display =\n",
              "          google.colab.kernel.accessAllowed ? 'block' : 'none';\n",
              "\n",
              "        async function convertToInteractive(key) {\n",
              "          const element = document.querySelector('#df-2ce23c67-0330-4483-a13e-246a03d17151');\n",
              "          const dataTable =\n",
              "            await google.colab.kernel.invokeFunction('convertToInteractive',\n",
              "                                                     [key], {});\n",
              "          if (!dataTable) return;\n",
              "\n",
              "          const docLinkHtml = 'Like what you see? Visit the ' +\n",
              "            '<a target=\"_blank\" href=https://colab.research.google.com/notebooks/data_table.ipynb>data table notebook</a>'\n",
              "            + ' to learn more about interactive tables.';\n",
              "          element.innerHTML = '';\n",
              "          dataTable['output_type'] = 'display_data';\n",
              "          await google.colab.output.renderOutput(dataTable, element);\n",
              "          const docLink = document.createElement('div');\n",
              "          docLink.innerHTML = docLinkHtml;\n",
              "          element.appendChild(docLink);\n",
              "        }\n",
              "      </script>\n",
              "    </div>\n",
              "  </div>\n",
              "  "
            ]
          },
          "metadata": {},
          "execution_count": 5
        }
      ]
    },
    {
      "cell_type": "code",
      "source": [
        "df_degraded"
      ],
      "metadata": {
        "colab": {
          "base_uri": "https://localhost:8080/",
          "height": 363
        },
        "id": "rHGbwd5WFTEh",
        "outputId": "7baaac63-3660-4e5a-946e-c9dff77589dc"
      },
      "execution_count": 6,
      "outputs": [
        {
          "output_type": "execute_result",
          "data": {
            "text/plain": [
              "   Unnamed: 0        audio_file_name       MCD    F0_PCC      PESQ  MOSNet_MOS\n",
              "0           0   neutral_sent001_long  4.136829  0.638116  1.135513       3.184\n",
              "1           1  neutral_sent001_short  3.300431  0.660483  1.106859       3.688\n",
              "2           2   neutral_sent002_long  4.350548  0.555309  1.100905       3.279\n",
              "3           3  neutral_sent002_short  2.790921       NaN  2.362273       3.416\n",
              "4           4   neutral_sent003_long  3.818634  0.608554  1.093348       3.216\n",
              "5           5  neutral_sent003_short  2.034464  0.989587  1.070583       3.992\n",
              "6           6   neutral_sent004_long  4.700303  0.728367  1.117639       3.105\n",
              "7           7  neutral_sent004_short  3.266012  0.774321  1.060411       3.592\n",
              "8           8   neutral_sent005_long  4.164725  0.652437  1.163138       2.876\n",
              "9           9  neutral_sent005_short  3.619143  0.929658  1.122771       3.034"
            ],
            "text/html": [
              "\n",
              "  <div id=\"df-140ba45c-086d-46c0-b3bf-431290d706b7\">\n",
              "    <div class=\"colab-df-container\">\n",
              "      <div>\n",
              "<style scoped>\n",
              "    .dataframe tbody tr th:only-of-type {\n",
              "        vertical-align: middle;\n",
              "    }\n",
              "\n",
              "    .dataframe tbody tr th {\n",
              "        vertical-align: top;\n",
              "    }\n",
              "\n",
              "    .dataframe thead th {\n",
              "        text-align: right;\n",
              "    }\n",
              "</style>\n",
              "<table border=\"1\" class=\"dataframe\">\n",
              "  <thead>\n",
              "    <tr style=\"text-align: right;\">\n",
              "      <th></th>\n",
              "      <th>Unnamed: 0</th>\n",
              "      <th>audio_file_name</th>\n",
              "      <th>MCD</th>\n",
              "      <th>F0_PCC</th>\n",
              "      <th>PESQ</th>\n",
              "      <th>MOSNet_MOS</th>\n",
              "    </tr>\n",
              "  </thead>\n",
              "  <tbody>\n",
              "    <tr>\n",
              "      <th>0</th>\n",
              "      <td>0</td>\n",
              "      <td>neutral_sent001_long</td>\n",
              "      <td>4.136829</td>\n",
              "      <td>0.638116</td>\n",
              "      <td>1.135513</td>\n",
              "      <td>3.184</td>\n",
              "    </tr>\n",
              "    <tr>\n",
              "      <th>1</th>\n",
              "      <td>1</td>\n",
              "      <td>neutral_sent001_short</td>\n",
              "      <td>3.300431</td>\n",
              "      <td>0.660483</td>\n",
              "      <td>1.106859</td>\n",
              "      <td>3.688</td>\n",
              "    </tr>\n",
              "    <tr>\n",
              "      <th>2</th>\n",
              "      <td>2</td>\n",
              "      <td>neutral_sent002_long</td>\n",
              "      <td>4.350548</td>\n",
              "      <td>0.555309</td>\n",
              "      <td>1.100905</td>\n",
              "      <td>3.279</td>\n",
              "    </tr>\n",
              "    <tr>\n",
              "      <th>3</th>\n",
              "      <td>3</td>\n",
              "      <td>neutral_sent002_short</td>\n",
              "      <td>2.790921</td>\n",
              "      <td>NaN</td>\n",
              "      <td>2.362273</td>\n",
              "      <td>3.416</td>\n",
              "    </tr>\n",
              "    <tr>\n",
              "      <th>4</th>\n",
              "      <td>4</td>\n",
              "      <td>neutral_sent003_long</td>\n",
              "      <td>3.818634</td>\n",
              "      <td>0.608554</td>\n",
              "      <td>1.093348</td>\n",
              "      <td>3.216</td>\n",
              "    </tr>\n",
              "    <tr>\n",
              "      <th>5</th>\n",
              "      <td>5</td>\n",
              "      <td>neutral_sent003_short</td>\n",
              "      <td>2.034464</td>\n",
              "      <td>0.989587</td>\n",
              "      <td>1.070583</td>\n",
              "      <td>3.992</td>\n",
              "    </tr>\n",
              "    <tr>\n",
              "      <th>6</th>\n",
              "      <td>6</td>\n",
              "      <td>neutral_sent004_long</td>\n",
              "      <td>4.700303</td>\n",
              "      <td>0.728367</td>\n",
              "      <td>1.117639</td>\n",
              "      <td>3.105</td>\n",
              "    </tr>\n",
              "    <tr>\n",
              "      <th>7</th>\n",
              "      <td>7</td>\n",
              "      <td>neutral_sent004_short</td>\n",
              "      <td>3.266012</td>\n",
              "      <td>0.774321</td>\n",
              "      <td>1.060411</td>\n",
              "      <td>3.592</td>\n",
              "    </tr>\n",
              "    <tr>\n",
              "      <th>8</th>\n",
              "      <td>8</td>\n",
              "      <td>neutral_sent005_long</td>\n",
              "      <td>4.164725</td>\n",
              "      <td>0.652437</td>\n",
              "      <td>1.163138</td>\n",
              "      <td>2.876</td>\n",
              "    </tr>\n",
              "    <tr>\n",
              "      <th>9</th>\n",
              "      <td>9</td>\n",
              "      <td>neutral_sent005_short</td>\n",
              "      <td>3.619143</td>\n",
              "      <td>0.929658</td>\n",
              "      <td>1.122771</td>\n",
              "      <td>3.034</td>\n",
              "    </tr>\n",
              "  </tbody>\n",
              "</table>\n",
              "</div>\n",
              "      <button class=\"colab-df-convert\" onclick=\"convertToInteractive('df-140ba45c-086d-46c0-b3bf-431290d706b7')\"\n",
              "              title=\"Convert this dataframe to an interactive table.\"\n",
              "              style=\"display:none;\">\n",
              "        \n",
              "  <svg xmlns=\"http://www.w3.org/2000/svg\" height=\"24px\"viewBox=\"0 0 24 24\"\n",
              "       width=\"24px\">\n",
              "    <path d=\"M0 0h24v24H0V0z\" fill=\"none\"/>\n",
              "    <path d=\"M18.56 5.44l.94 2.06.94-2.06 2.06-.94-2.06-.94-.94-2.06-.94 2.06-2.06.94zm-11 1L8.5 8.5l.94-2.06 2.06-.94-2.06-.94L8.5 2.5l-.94 2.06-2.06.94zm10 10l.94 2.06.94-2.06 2.06-.94-2.06-.94-.94-2.06-.94 2.06-2.06.94z\"/><path d=\"M17.41 7.96l-1.37-1.37c-.4-.4-.92-.59-1.43-.59-.52 0-1.04.2-1.43.59L10.3 9.45l-7.72 7.72c-.78.78-.78 2.05 0 2.83L4 21.41c.39.39.9.59 1.41.59.51 0 1.02-.2 1.41-.59l7.78-7.78 2.81-2.81c.8-.78.8-2.07 0-2.86zM5.41 20L4 18.59l7.72-7.72 1.47 1.35L5.41 20z\"/>\n",
              "  </svg>\n",
              "      </button>\n",
              "      \n",
              "  <style>\n",
              "    .colab-df-container {\n",
              "      display:flex;\n",
              "      flex-wrap:wrap;\n",
              "      gap: 12px;\n",
              "    }\n",
              "\n",
              "    .colab-df-convert {\n",
              "      background-color: #E8F0FE;\n",
              "      border: none;\n",
              "      border-radius: 50%;\n",
              "      cursor: pointer;\n",
              "      display: none;\n",
              "      fill: #1967D2;\n",
              "      height: 32px;\n",
              "      padding: 0 0 0 0;\n",
              "      width: 32px;\n",
              "    }\n",
              "\n",
              "    .colab-df-convert:hover {\n",
              "      background-color: #E2EBFA;\n",
              "      box-shadow: 0px 1px 2px rgba(60, 64, 67, 0.3), 0px 1px 3px 1px rgba(60, 64, 67, 0.15);\n",
              "      fill: #174EA6;\n",
              "    }\n",
              "\n",
              "    [theme=dark] .colab-df-convert {\n",
              "      background-color: #3B4455;\n",
              "      fill: #D2E3FC;\n",
              "    }\n",
              "\n",
              "    [theme=dark] .colab-df-convert:hover {\n",
              "      background-color: #434B5C;\n",
              "      box-shadow: 0px 1px 3px 1px rgba(0, 0, 0, 0.15);\n",
              "      filter: drop-shadow(0px 1px 2px rgba(0, 0, 0, 0.3));\n",
              "      fill: #FFFFFF;\n",
              "    }\n",
              "  </style>\n",
              "\n",
              "      <script>\n",
              "        const buttonEl =\n",
              "          document.querySelector('#df-140ba45c-086d-46c0-b3bf-431290d706b7 button.colab-df-convert');\n",
              "        buttonEl.style.display =\n",
              "          google.colab.kernel.accessAllowed ? 'block' : 'none';\n",
              "\n",
              "        async function convertToInteractive(key) {\n",
              "          const element = document.querySelector('#df-140ba45c-086d-46c0-b3bf-431290d706b7');\n",
              "          const dataTable =\n",
              "            await google.colab.kernel.invokeFunction('convertToInteractive',\n",
              "                                                     [key], {});\n",
              "          if (!dataTable) return;\n",
              "\n",
              "          const docLinkHtml = 'Like what you see? Visit the ' +\n",
              "            '<a target=\"_blank\" href=https://colab.research.google.com/notebooks/data_table.ipynb>data table notebook</a>'\n",
              "            + ' to learn more about interactive tables.';\n",
              "          element.innerHTML = '';\n",
              "          dataTable['output_type'] = 'display_data';\n",
              "          await google.colab.output.renderOutput(dataTable, element);\n",
              "          const docLink = document.createElement('div');\n",
              "          docLink.innerHTML = docLinkHtml;\n",
              "          element.appendChild(docLink);\n",
              "        }\n",
              "      </script>\n",
              "    </div>\n",
              "  </div>\n",
              "  "
            ]
          },
          "metadata": {},
          "execution_count": 6
        }
      ]
    },
    {
      "cell_type": "code",
      "source": [
        "metric_names = df_resyn.columns[2:]\n",
        "\n",
        "print('------------resyn-------------')\n",
        "for metric_name in metric_names:\n",
        "  print(f\"{metric_name}:\"+'  Mean: ' + f\"{df_resyn[metric_name].mean():.3}\"  + ' Std: ' + f\"{df_resyn[metric_name].std():.3}\")\n",
        "\n",
        "print('------------degraded-------------')\n",
        "for metric_name in metric_names:\n",
        "  print(f\"{metric_name}:\"+'  Mean: ' + f\"{df_degraded[metric_name].mean():.3}\"  + ' Std: ' + f\"{df_degraded[metric_name].std():.3}\") "
      ],
      "metadata": {
        "colab": {
          "base_uri": "https://localhost:8080/"
        },
        "id": "g7RIucS8GTU_",
        "outputId": "3ebc90ca-4179-4f79-f5d3-256013678eec"
      },
      "execution_count": 7,
      "outputs": [
        {
          "output_type": "stream",
          "name": "stdout",
          "text": [
            "------------resyn-------------\n",
            "MCD:  Mean: 2.97 Std: 0.696\n",
            "F0_PCC:  Mean: 0.836 Std: 0.134\n",
            "PESQ:  Mean: 2.49 Std: 0.559\n",
            "MOSNet_MOS:  Mean: 3.1 Std: 0.131\n",
            "------------degraded-------------\n",
            "MCD:  Mean: 3.62 Std: 0.798\n",
            "F0_PCC:  Mean: 0.726 Std: 0.147\n",
            "PESQ:  Mean: 1.23 Std: 0.398\n",
            "MOSNet_MOS:  Mean: 3.34 Std: 0.337\n"
          ]
        }
      ]
    },
    {
      "cell_type": "markdown",
      "source": [
        "## Scatter plots"
      ],
      "metadata": {
        "id": "Prqv4-8AJRrc"
      }
    },
    {
      "cell_type": "markdown",
      "source": [
        "Use scatter plots to see if two methods are correlated"
      ],
      "metadata": {
        "id": "ZNJGVAJ4Jni5"
      }
    },
    {
      "cell_type": "code",
      "source": [
        "#Choose the model \n",
        "result = df_resyn.append(df_degraded) #resyn: df_resyn; degraded: df_degraded; all: df_resyn.append(df_degraded)\n",
        "\n",
        "#Choose two evaluation metircs: MCD, F0_PCC, PESQ, ViSQOL, MOSNet_MOS\n",
        "metrics = ['F0_PCC','MCD']\n",
        "\n",
        "# select columns\n",
        "x_1 = df_resyn[metrics[0]]\n",
        "y_1 = df_resyn[metrics[1]]\n",
        "x_2 = df_degraded[metrics[0]]\n",
        "y_2 = df_degraded[metrics[1]]\n",
        "\n",
        "# create scatter plot\n",
        "plt_1 = plt.scatter(x_1, y_1)\n",
        "plt_2 = plt.scatter(x_2,y_2)\n",
        "\n",
        "# add title and axis labels\n",
        "plt.title(f'Scatter Plot of {metrics[0]} vs. {metrics[1]}')\n",
        "plt.xlabel(metrics[0])\n",
        "plt.ylabel(metrics[1])\n",
        "plt.legend([plt_1, plt_2], [\"resyn\", \"degraded\"])\n",
        "\n",
        "# show plot\n",
        "plt.show()"
      ],
      "metadata": {
        "colab": {
          "base_uri": "https://localhost:8080/",
          "height": 527
        },
        "id": "CU2vAe1DJeI1",
        "outputId": "b26c329e-3e17-4139-bfc8-d8e9d27d1dfa"
      },
      "execution_count": 12,
      "outputs": [
        {
          "output_type": "stream",
          "name": "stderr",
          "text": [
            "<ipython-input-12-130773f05502>:2: FutureWarning: The frame.append method is deprecated and will be removed from pandas in a future version. Use pandas.concat instead.\n",
            "  result = df_resyn.append(df_degraded) #resyn: df_resyn; degraded: df_degraded; all: df_resyn.append(df_degraded)\n"
          ]
        },
        {
          "output_type": "display_data",
          "data": {
            "text/plain": [
              "<Figure size 640x480 with 1 Axes>"
            ],
            "image/png": "[encoded data removed]"
          },
          "metadata": {}
        }
      ]
    },
    {
      "cell_type": "markdown",
      "source": [
        "## Correlation test"
      ],
      "metadata": {
        "id": "RcNo7PDnuxVx"
      }
    },
    {
      "cell_type": "markdown",
      "source": [
        "Correlation matrix shows the correlation coefficients between each pair of metrics. The correlation coefficient ranges from -1 to 1, where values close to 1 indicate a strong positive correlation, values close to -1 indicate a strong negative correlation, and values close to 0 indicate little to no correlation.\n",
        "\n"
      ],
      "metadata": {
        "id": "0cov2TlBv1yp"
      }
    },
    {
      "cell_type": "code",
      "source": [
        "import pandas as pd\n",
        "\n",
        "# Assuming you have a DataFrame with the evaluation results\n",
        "evaluation_results = df_resyn.iloc[:, 2:]\n",
        "\n",
        "# Calculate the correlation matrix\n",
        "correlation_matrix = evaluation_results.corr()\n",
        "\n",
        "# Print the correlation matrix\n",
        "print(correlation_matrix)\n"
      ],
      "metadata": {
        "colab": {
          "base_uri": "https://localhost:8080/"
        },
        "id": "Bo5J8SHLusE9",
        "outputId": "ae13dba5-a86b-42ab-9ac8-9e968209c2f9"
      },
      "execution_count": 13,
      "outputs": [
        {
          "output_type": "stream",
          "name": "stdout",
          "text": [
            "                 MCD    F0_PCC      PESQ  MOSNet_MOS\n",
            "MCD         1.000000 -0.669225 -0.502489   -0.446088\n",
            "F0_PCC     -0.669225  1.000000  0.648837    0.143382\n",
            "PESQ       -0.502489  0.648837  1.000000    0.268551\n",
            "MOSNet_MOS -0.446088  0.143382  0.268551    1.000000\n"
          ]
        }
      ]
    },
    {
      "cell_type": "markdown",
      "source": [
        "## long-short analysis"
      ],
      "metadata": {
        "id": "xRpWCq-E_bje"
      }
    },
    {
      "cell_type": "code",
      "source": [
        "df_resyn_long_mean = df_resyn[df_resyn['audio_file_name'].str.contains('long')].iloc[:, 2:].mean()\n",
        "df_resyn_short_mean = df_resyn[df_resyn['audio_file_name'].str.contains('short')].iloc[:, 2:].mean()\n",
        "df_resyn_long_mean['subjective\\n MOS'] = 3 # to be replaced by subjective eval result\n",
        "df_resyn_short_mean['subjective\\n MOS'] = 5 # to be replaced by subjective eval result\n",
        "\n",
        "df_degraded_long_mean = df_degraded[df_degraded['audio_file_name'].str.contains('long')].iloc[:, 2:].mean()\n",
        "df_degraded_short_mean = df_degraded[df_degraded['audio_file_name'].str.contains('short')].iloc[:, 2:].mean()\n",
        "df_degraded_long_mean['subjective MOS'] = 3 # to be replaced \n",
        "df_degraded_short_mean['subjective MOS'] = 5 # to be replaced\n",
        "\n",
        "# Set the width of each bar\n",
        "bar_width = 0.35\n",
        "fig, (ax1, ax2) = plt.subplots(1, 2, figsize=(10, 3))\n",
        "\n",
        "# create the dataframe\n",
        "df_resyn_mean = pd.DataFrame({'long': df_resyn_long_mean.values, 'short': df_resyn_short_mean.values}, index=df_resyn_long_mean.index)\n",
        "df_degraded_mean = pd.DataFrame({'long': df_degraded_long_mean.values, 'short': df_degraded_short_mean.values}, index=df_degraded_long_mean.index)\n",
        "\n",
        "# plot\n",
        "df_resyn_mean.plot(kind='bar', rot=0, title='Resynthesized audios', ylabel='Mean Values',ylim=(0,5), ax=ax1)\n",
        "df_degraded_mean.plot(kind='bar', rot=0, title='Degraded audios', ylabel='Mean Values',ylim=(0,5), ax=ax2)"
      ],
      "metadata": {
        "colab": {
          "base_uri": "https://localhost:8080/",
          "height": 501
        },
        "id": "wi-f01yJ_f3A",
        "outputId": "f2af7951-591b-463c-8b73-7e9219ebba87"
      },
      "execution_count": 38,
      "outputs": [
        {
          "output_type": "execute_result",
          "data": {
            "text/plain": [
              "<Axes: title={'center': 'Degraded audios'}, ylabel='Mean Values'>"
            ]
          },
          "metadata": {},
          "execution_count": 38
        },
        {
          "output_type": "display_data",
          "data": {
            "text/plain": [
              "<Figure size 1000x500 with 2 Axes>"
            ],
            "image/png": "[encoded data removed]"
          },
          "metadata": {}
        }
      ]
    }
  ]
}