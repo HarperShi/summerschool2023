{
  "nbformat": 4,
  "nbformat_minor": 0,
  "metadata": {
    "colab": {
      "provenance": [],
      "toc_visible": true
    },
    "kernelspec": {
      "name": "python3",
      "display_name": "Python 3"
    },
    "language_info": {
      "name": "python"
    }
  },
  "cells": [
    {
      "cell_type": "code",
      "execution_count": null,
      "metadata": {
        "colab": {
          "base_uri": "https://localhost:8080/"
        },
        "id": "ngdUb1ZvEG5B",
        "outputId": "86a429ca-b777-4fc5-9434-1ce29e05ce4e"
      },
      "outputs": [
        {
          "output_type": "stream",
          "name": "stdout",
          "text": [
            "Mounted at /content/drive\n"
          ]
        }
      ],
      "source": [
        "# mount Google Drive\n",
        "from google.colab import drive\n",
        "drive.mount('/content/drive')"
      ]
    },
    {
      "cell_type": "code",
      "source": [
        "import os\n",
        "import numpy as np\n",
        "import pandas as pd\n",
        "import seaborn as sns\n",
        "import matplotlib.pyplot as plt\n",
        "import csv"
      ],
      "metadata": {
        "id": "olSQ-TRvEqYO"
      },
      "execution_count": 23,
      "outputs": []
    },
    {
      "cell_type": "code",
      "source": [
        "%cd /content/drive/MyDrive/Colab_Notebooks/summerschool2023"
      ],
      "metadata": {
        "colab": {
          "base_uri": "https://localhost:8080/"
        },
        "id": "LHv24Q3HEhX-",
        "outputId": "8adef45c-11a7-4640-ffa6-0e8e020a1399"
      },
      "execution_count": 24,
      "outputs": [
        {
          "output_type": "stream",
          "name": "stdout",
          "text": [
            "/content/drive/MyDrive/Colab_Notebooks/summerschool2023\n"
          ]
        }
      ]
    },
    {
      "cell_type": "code",
      "source": [
        "#Read objective evalution results\n",
        "df_resyn = pd.read_csv('result/summary_resyn_00.csv')\n",
        "df_degraded = pd.read_csv('result/summary_degraded_00.csv')"
      ],
      "metadata": {
        "id": "L4P8T7rVEtCH"
      },
      "execution_count": 13,
      "outputs": []
    },
    {
      "cell_type": "markdown",
      "source": [
        "## Mean and Standard deviation"
      ],
      "metadata": {
        "id": "KiFzLODnGY7o"
      }
    },
    {
      "cell_type": "code",
      "source": [
        "df_resyn"
      ],
      "metadata": {
        "colab": {
          "base_uri": "https://localhost:8080/",
          "height": 363
        },
        "id": "uJzcMWbjFQhG",
        "outputId": "1e1d5c77-4091-45ca-8065-648a0ded394c"
      },
      "execution_count": 14,
      "outputs": [
        {
          "output_type": "execute_result",
          "data": {
            "text/plain": [
              "   Unnamed: 0        audio_file_name       MCD    F0_PCC      PESQ  MOSNet  \\\n",
              "0           0   neutral_sent001_long  3.509604  0.804777  2.780573   2.972   \n",
              "1           1  neutral_sent001_short  2.755415  0.703189  1.569872   3.224   \n",
              "2           2   neutral_sent002_long  4.078117  0.602279  2.166164   3.076   \n",
              "3           3  neutral_sent002_short  2.409424  0.966831  2.510628   3.217   \n",
              "4           4   neutral_sent003_long  3.257757  0.738487  2.452163   3.047   \n",
              "5           5  neutral_sent003_short  1.627295  0.999926  3.630932   3.200   \n",
              "6           6   neutral_sent004_long  3.265580  0.858530  2.291985   2.995   \n",
              "7           7  neutral_sent004_short  3.406933  0.953940  2.655897   3.210   \n",
              "8           8   neutral_sent005_long  2.971916  0.895596  1.978069   2.842   \n",
              "9           9  neutral_sent005_short  2.411648  0.962911  2.871550   3.182   \n",
              "\n",
              "      NISQA  \n",
              "0  3.864740  \n",
              "1  2.201691  \n",
              "2  3.295876  \n",
              "3  2.845493  \n",
              "4  2.740637  \n",
              "5  2.729923  \n",
              "6  2.928636  \n",
              "7  2.255678  \n",
              "8  2.441009  \n",
              "9  2.478161  "
            ],
            "text/html": [
              "\n",
              "  <div id=\"df-ef50891c-11d2-4879-ba37-ca965dcca058\">\n",
              "    <div class=\"colab-df-container\">\n",
              "      <div>\n",
              "<style scoped>\n",
              "    .dataframe tbody tr th:only-of-type {\n",
              "        vertical-align: middle;\n",
              "    }\n",
              "\n",
              "    .dataframe tbody tr th {\n",
              "        vertical-align: top;\n",
              "    }\n",
              "\n",
              "    .dataframe thead th {\n",
              "        text-align: right;\n",
              "    }\n",
              "</style>\n",
              "<table border=\"1\" class=\"dataframe\">\n",
              "  <thead>\n",
              "    <tr style=\"text-align: right;\">\n",
              "      <th></th>\n",
              "      <th>Unnamed: 0</th>\n",
              "      <th>audio_file_name</th>\n",
              "      <th>MCD</th>\n",
              "      <th>F0_PCC</th>\n",
              "      <th>PESQ</th>\n",
              "      <th>MOSNet</th>\n",
              "      <th>NISQA</th>\n",
              "    </tr>\n",
              "  </thead>\n",
              "  <tbody>\n",
              "    <tr>\n",
              "      <th>0</th>\n",
              "      <td>0</td>\n",
              "      <td>neutral_sent001_long</td>\n",
              "      <td>3.509604</td>\n",
              "      <td>0.804777</td>\n",
              "      <td>2.780573</td>\n",
              "      <td>2.972</td>\n",
              "      <td>3.864740</td>\n",
              "    </tr>\n",
              "    <tr>\n",
              "      <th>1</th>\n",
              "      <td>1</td>\n",
              "      <td>neutral_sent001_short</td>\n",
              "      <td>2.755415</td>\n",
              "      <td>0.703189</td>\n",
              "      <td>1.569872</td>\n",
              "      <td>3.224</td>\n",
              "      <td>2.201691</td>\n",
              "    </tr>\n",
              "    <tr>\n",
              "      <th>2</th>\n",
              "      <td>2</td>\n",
              "      <td>neutral_sent002_long</td>\n",
              "      <td>4.078117</td>\n",
              "      <td>0.602279</td>\n",
              "      <td>2.166164</td>\n",
              "      <td>3.076</td>\n",
              "      <td>3.295876</td>\n",
              "    </tr>\n",
              "    <tr>\n",
              "      <th>3</th>\n",
              "      <td>3</td>\n",
              "      <td>neutral_sent002_short</td>\n",
              "      <td>2.409424</td>\n",
              "      <td>0.966831</td>\n",
              "      <td>2.510628</td>\n",
              "      <td>3.217</td>\n",
              "      <td>2.845493</td>\n",
              "    </tr>\n",
              "    <tr>\n",
              "      <th>4</th>\n",
              "      <td>4</td>\n",
              "      <td>neutral_sent003_long</td>\n",
              "      <td>3.257757</td>\n",
              "      <td>0.738487</td>\n",
              "      <td>2.452163</td>\n",
              "      <td>3.047</td>\n",
              "      <td>2.740637</td>\n",
              "    </tr>\n",
              "    <tr>\n",
              "      <th>5</th>\n",
              "      <td>5</td>\n",
              "      <td>neutral_sent003_short</td>\n",
              "      <td>1.627295</td>\n",
              "      <td>0.999926</td>\n",
              "      <td>3.630932</td>\n",
              "      <td>3.200</td>\n",
              "      <td>2.729923</td>\n",
              "    </tr>\n",
              "    <tr>\n",
              "      <th>6</th>\n",
              "      <td>6</td>\n",
              "      <td>neutral_sent004_long</td>\n",
              "      <td>3.265580</td>\n",
              "      <td>0.858530</td>\n",
              "      <td>2.291985</td>\n",
              "      <td>2.995</td>\n",
              "      <td>2.928636</td>\n",
              "    </tr>\n",
              "    <tr>\n",
              "      <th>7</th>\n",
              "      <td>7</td>\n",
              "      <td>neutral_sent004_short</td>\n",
              "      <td>3.406933</td>\n",
              "      <td>0.953940</td>\n",
              "      <td>2.655897</td>\n",
              "      <td>3.210</td>\n",
              "      <td>2.255678</td>\n",
              "    </tr>\n",
              "    <tr>\n",
              "      <th>8</th>\n",
              "      <td>8</td>\n",
              "      <td>neutral_sent005_long</td>\n",
              "      <td>2.971916</td>\n",
              "      <td>0.895596</td>\n",
              "      <td>1.978069</td>\n",
              "      <td>2.842</td>\n",
              "      <td>2.441009</td>\n",
              "    </tr>\n",
              "    <tr>\n",
              "      <th>9</th>\n",
              "      <td>9</td>\n",
              "      <td>neutral_sent005_short</td>\n",
              "      <td>2.411648</td>\n",
              "      <td>0.962911</td>\n",
              "      <td>2.871550</td>\n",
              "      <td>3.182</td>\n",
              "      <td>2.478161</td>\n",
              "    </tr>\n",
              "  </tbody>\n",
              "</table>\n",
              "</div>\n",
              "      <button class=\"colab-df-convert\" onclick=\"convertToInteractive('df-ef50891c-11d2-4879-ba37-ca965dcca058')\"\n",
              "              title=\"Convert this dataframe to an interactive table.\"\n",
              "              style=\"display:none;\">\n",
              "        \n",
              "  <svg xmlns=\"http://www.w3.org/2000/svg\" height=\"24px\"viewBox=\"0 0 24 24\"\n",
              "       width=\"24px\">\n",
              "    <path d=\"M0 0h24v24H0V0z\" fill=\"none\"/>\n",
              "    <path d=\"M18.56 5.44l.94 2.06.94-2.06 2.06-.94-2.06-.94-.94-2.06-.94 2.06-2.06.94zm-11 1L8.5 8.5l.94-2.06 2.06-.94-2.06-.94L8.5 2.5l-.94 2.06-2.06.94zm10 10l.94 2.06.94-2.06 2.06-.94-2.06-.94-.94-2.06-.94 2.06-2.06.94z\"/><path d=\"M17.41 7.96l-1.37-1.37c-.4-.4-.92-.59-1.43-.59-.52 0-1.04.2-1.43.59L10.3 9.45l-7.72 7.72c-.78.78-.78 2.05 0 2.83L4 21.41c.39.39.9.59 1.41.59.51 0 1.02-.2 1.41-.59l7.78-7.78 2.81-2.81c.8-.78.8-2.07 0-2.86zM5.41 20L4 18.59l7.72-7.72 1.47 1.35L5.41 20z\"/>\n",
              "  </svg>\n",
              "      </button>\n",
              "      \n",
              "  <style>\n",
              "    .colab-df-container {\n",
              "      display:flex;\n",
              "      flex-wrap:wrap;\n",
              "      gap: 12px;\n",
              "    }\n",
              "\n",
              "    .colab-df-convert {\n",
              "      background-color: #E8F0FE;\n",
              "      border: none;\n",
              "      border-radius: 50%;\n",
              "      cursor: pointer;\n",
              "      display: none;\n",
              "      fill: #1967D2;\n",
              "      height: 32px;\n",
              "      padding: 0 0 0 0;\n",
              "      width: 32px;\n",
              "    }\n",
              "\n",
              "    .colab-df-convert:hover {\n",
              "      background-color: #E2EBFA;\n",
              "      box-shadow: 0px 1px 2px rgba(60, 64, 67, 0.3), 0px 1px 3px 1px rgba(60, 64, 67, 0.15);\n",
              "      fill: #174EA6;\n",
              "    }\n",
              "\n",
              "    [theme=dark] .colab-df-convert {\n",
              "      background-color: #3B4455;\n",
              "      fill: #D2E3FC;\n",
              "    }\n",
              "\n",
              "    [theme=dark] .colab-df-convert:hover {\n",
              "      background-color: #434B5C;\n",
              "      box-shadow: 0px 1px 3px 1px rgba(0, 0, 0, 0.15);\n",
              "      filter: drop-shadow(0px 1px 2px rgba(0, 0, 0, 0.3));\n",
              "      fill: #FFFFFF;\n",
              "    }\n",
              "  </style>\n",
              "\n",
              "      <script>\n",
              "        const buttonEl =\n",
              "          document.querySelector('#df-ef50891c-11d2-4879-ba37-ca965dcca058 button.colab-df-convert');\n",
              "        buttonEl.style.display =\n",
              "          google.colab.kernel.accessAllowed ? 'block' : 'none';\n",
              "\n",
              "        async function convertToInteractive(key) {\n",
              "          const element = document.querySelector('#df-ef50891c-11d2-4879-ba37-ca965dcca058');\n",
              "          const dataTable =\n",
              "            await google.colab.kernel.invokeFunction('convertToInteractive',\n",
              "                                                     [key], {});\n",
              "          if (!dataTable) return;\n",
              "\n",
              "          const docLinkHtml = 'Like what you see? Visit the ' +\n",
              "            '<a target=\"_blank\" href=https://colab.research.google.com/notebooks/data_table.ipynb>data table notebook</a>'\n",
              "            + ' to learn more about interactive tables.';\n",
              "          element.innerHTML = '';\n",
              "          dataTable['output_type'] = 'display_data';\n",
              "          await google.colab.output.renderOutput(dataTable, element);\n",
              "          const docLink = document.createElement('div');\n",
              "          docLink.innerHTML = docLinkHtml;\n",
              "          element.appendChild(docLink);\n",
              "        }\n",
              "      </script>\n",
              "    </div>\n",
              "  </div>\n",
              "  "
            ]
          },
          "metadata": {},
          "execution_count": 14
        }
      ]
    },
    {
      "cell_type": "code",
      "source": [
        "df_degraded"
      ],
      "metadata": {
        "colab": {
          "base_uri": "https://localhost:8080/",
          "height": 363
        },
        "id": "rHGbwd5WFTEh",
        "outputId": "597f95e2-e7f4-4e33-fc6b-fa98612b976e"
      },
      "execution_count": 15,
      "outputs": [
        {
          "output_type": "execute_result",
          "data": {
            "text/plain": [
              "   Unnamed: 0        audio_file_name       MCD    F0_PCC      PESQ  MOSNet  \\\n",
              "0           0   neutral_sent001_long  4.136829  0.638116  1.135513   3.184   \n",
              "1           1  neutral_sent001_short  3.300431  0.660483  1.106859   3.688   \n",
              "2           2   neutral_sent002_long  4.350548  0.555309  1.100905   3.279   \n",
              "3           3  neutral_sent002_short  2.790921  0.966831  2.362273   3.416   \n",
              "4           4   neutral_sent003_long  3.818634  0.608554  1.093348   3.216   \n",
              "5           5  neutral_sent003_short  2.034464  0.989587  1.070583   3.992   \n",
              "6           6   neutral_sent004_long  4.700303  0.728367  1.117639   3.105   \n",
              "7           7  neutral_sent004_short  3.266012  0.774321  1.060411   3.592   \n",
              "8           8   neutral_sent005_long  4.164725  0.652437  1.163138   2.876   \n",
              "9           9  neutral_sent005_short  3.619143  0.929658  1.122771   3.034   \n",
              "\n",
              "      NISQA  \n",
              "0  2.237563  \n",
              "1  2.135721  \n",
              "2  2.748559  \n",
              "3  2.743794  \n",
              "4  3.521120  \n",
              "5  3.295687  \n",
              "6  2.353680  \n",
              "7  2.404449  \n",
              "8  2.307054  \n",
              "9  2.186512  "
            ],
            "text/html": [
              "\n",
              "  <div id=\"df-fba2f6dd-8cda-4d90-a531-6144a7ed99a4\">\n",
              "    <div class=\"colab-df-container\">\n",
              "      <div>\n",
              "<style scoped>\n",
              "    .dataframe tbody tr th:only-of-type {\n",
              "        vertical-align: middle;\n",
              "    }\n",
              "\n",
              "    .dataframe tbody tr th {\n",
              "        vertical-align: top;\n",
              "    }\n",
              "\n",
              "    .dataframe thead th {\n",
              "        text-align: right;\n",
              "    }\n",
              "</style>\n",
              "<table border=\"1\" class=\"dataframe\">\n",
              "  <thead>\n",
              "    <tr style=\"text-align: right;\">\n",
              "      <th></th>\n",
              "      <th>Unnamed: 0</th>\n",
              "      <th>audio_file_name</th>\n",
              "      <th>MCD</th>\n",
              "      <th>F0_PCC</th>\n",
              "      <th>PESQ</th>\n",
              "      <th>MOSNet</th>\n",
              "      <th>NISQA</th>\n",
              "    </tr>\n",
              "  </thead>\n",
              "  <tbody>\n",
              "    <tr>\n",
              "      <th>0</th>\n",
              "      <td>0</td>\n",
              "      <td>neutral_sent001_long</td>\n",
              "      <td>4.136829</td>\n",
              "      <td>0.638116</td>\n",
              "      <td>1.135513</td>\n",
              "      <td>3.184</td>\n",
              "      <td>2.237563</td>\n",
              "    </tr>\n",
              "    <tr>\n",
              "      <th>1</th>\n",
              "      <td>1</td>\n",
              "      <td>neutral_sent001_short</td>\n",
              "      <td>3.300431</td>\n",
              "      <td>0.660483</td>\n",
              "      <td>1.106859</td>\n",
              "      <td>3.688</td>\n",
              "      <td>2.135721</td>\n",
              "    </tr>\n",
              "    <tr>\n",
              "      <th>2</th>\n",
              "      <td>2</td>\n",
              "      <td>neutral_sent002_long</td>\n",
              "      <td>4.350548</td>\n",
              "      <td>0.555309</td>\n",
              "      <td>1.100905</td>\n",
              "      <td>3.279</td>\n",
              "      <td>2.748559</td>\n",
              "    </tr>\n",
              "    <tr>\n",
              "      <th>3</th>\n",
              "      <td>3</td>\n",
              "      <td>neutral_sent002_short</td>\n",
              "      <td>2.790921</td>\n",
              "      <td>0.966831</td>\n",
              "      <td>2.362273</td>\n",
              "      <td>3.416</td>\n",
              "      <td>2.743794</td>\n",
              "    </tr>\n",
              "    <tr>\n",
              "      <th>4</th>\n",
              "      <td>4</td>\n",
              "      <td>neutral_sent003_long</td>\n",
              "      <td>3.818634</td>\n",
              "      <td>0.608554</td>\n",
              "      <td>1.093348</td>\n",
              "      <td>3.216</td>\n",
              "      <td>3.521120</td>\n",
              "    </tr>\n",
              "    <tr>\n",
              "      <th>5</th>\n",
              "      <td>5</td>\n",
              "      <td>neutral_sent003_short</td>\n",
              "      <td>2.034464</td>\n",
              "      <td>0.989587</td>\n",
              "      <td>1.070583</td>\n",
              "      <td>3.992</td>\n",
              "      <td>3.295687</td>\n",
              "    </tr>\n",
              "    <tr>\n",
              "      <th>6</th>\n",
              "      <td>6</td>\n",
              "      <td>neutral_sent004_long</td>\n",
              "      <td>4.700303</td>\n",
              "      <td>0.728367</td>\n",
              "      <td>1.117639</td>\n",
              "      <td>3.105</td>\n",
              "      <td>2.353680</td>\n",
              "    </tr>\n",
              "    <tr>\n",
              "      <th>7</th>\n",
              "      <td>7</td>\n",
              "      <td>neutral_sent004_short</td>\n",
              "      <td>3.266012</td>\n",
              "      <td>0.774321</td>\n",
              "      <td>1.060411</td>\n",
              "      <td>3.592</td>\n",
              "      <td>2.404449</td>\n",
              "    </tr>\n",
              "    <tr>\n",
              "      <th>8</th>\n",
              "      <td>8</td>\n",
              "      <td>neutral_sent005_long</td>\n",
              "      <td>4.164725</td>\n",
              "      <td>0.652437</td>\n",
              "      <td>1.163138</td>\n",
              "      <td>2.876</td>\n",
              "      <td>2.307054</td>\n",
              "    </tr>\n",
              "    <tr>\n",
              "      <th>9</th>\n",
              "      <td>9</td>\n",
              "      <td>neutral_sent005_short</td>\n",
              "      <td>3.619143</td>\n",
              "      <td>0.929658</td>\n",
              "      <td>1.122771</td>\n",
              "      <td>3.034</td>\n",
              "      <td>2.186512</td>\n",
              "    </tr>\n",
              "  </tbody>\n",
              "</table>\n",
              "</div>\n",
              "      <button class=\"colab-df-convert\" onclick=\"convertToInteractive('df-fba2f6dd-8cda-4d90-a531-6144a7ed99a4')\"\n",
              "              title=\"Convert this dataframe to an interactive table.\"\n",
              "              style=\"display:none;\">\n",
              "        \n",
              "  <svg xmlns=\"http://www.w3.org/2000/svg\" height=\"24px\"viewBox=\"0 0 24 24\"\n",
              "       width=\"24px\">\n",
              "    <path d=\"M0 0h24v24H0V0z\" fill=\"none\"/>\n",
              "    <path d=\"M18.56 5.44l.94 2.06.94-2.06 2.06-.94-2.06-.94-.94-2.06-.94 2.06-2.06.94zm-11 1L8.5 8.5l.94-2.06 2.06-.94-2.06-.94L8.5 2.5l-.94 2.06-2.06.94zm10 10l.94 2.06.94-2.06 2.06-.94-2.06-.94-.94-2.06-.94 2.06-2.06.94z\"/><path d=\"M17.41 7.96l-1.37-1.37c-.4-.4-.92-.59-1.43-.59-.52 0-1.04.2-1.43.59L10.3 9.45l-7.72 7.72c-.78.78-.78 2.05 0 2.83L4 21.41c.39.39.9.59 1.41.59.51 0 1.02-.2 1.41-.59l7.78-7.78 2.81-2.81c.8-.78.8-2.07 0-2.86zM5.41 20L4 18.59l7.72-7.72 1.47 1.35L5.41 20z\"/>\n",
              "  </svg>\n",
              "      </button>\n",
              "      \n",
              "  <style>\n",
              "    .colab-df-container {\n",
              "      display:flex;\n",
              "      flex-wrap:wrap;\n",
              "      gap: 12px;\n",
              "    }\n",
              "\n",
              "    .colab-df-convert {\n",
              "      background-color: #E8F0FE;\n",
              "      border: none;\n",
              "      border-radius: 50%;\n",
              "      cursor: pointer;\n",
              "      display: none;\n",
              "      fill: #1967D2;\n",
              "      height: 32px;\n",
              "      padding: 0 0 0 0;\n",
              "      width: 32px;\n",
              "    }\n",
              "\n",
              "    .colab-df-convert:hover {\n",
              "      background-color: #E2EBFA;\n",
              "      box-shadow: 0px 1px 2px rgba(60, 64, 67, 0.3), 0px 1px 3px 1px rgba(60, 64, 67, 0.15);\n",
              "      fill: #174EA6;\n",
              "    }\n",
              "\n",
              "    [theme=dark] .colab-df-convert {\n",
              "      background-color: #3B4455;\n",
              "      fill: #D2E3FC;\n",
              "    }\n",
              "\n",
              "    [theme=dark] .colab-df-convert:hover {\n",
              "      background-color: #434B5C;\n",
              "      box-shadow: 0px 1px 3px 1px rgba(0, 0, 0, 0.15);\n",
              "      filter: drop-shadow(0px 1px 2px rgba(0, 0, 0, 0.3));\n",
              "      fill: #FFFFFF;\n",
              "    }\n",
              "  </style>\n",
              "\n",
              "      <script>\n",
              "        const buttonEl =\n",
              "          document.querySelector('#df-fba2f6dd-8cda-4d90-a531-6144a7ed99a4 button.colab-df-convert');\n",
              "        buttonEl.style.display =\n",
              "          google.colab.kernel.accessAllowed ? 'block' : 'none';\n",
              "\n",
              "        async function convertToInteractive(key) {\n",
              "          const element = document.querySelector('#df-fba2f6dd-8cda-4d90-a531-6144a7ed99a4');\n",
              "          const dataTable =\n",
              "            await google.colab.kernel.invokeFunction('convertToInteractive',\n",
              "                                                     [key], {});\n",
              "          if (!dataTable) return;\n",
              "\n",
              "          const docLinkHtml = 'Like what you see? Visit the ' +\n",
              "            '<a target=\"_blank\" href=https://colab.research.google.com/notebooks/data_table.ipynb>data table notebook</a>'\n",
              "            + ' to learn more about interactive tables.';\n",
              "          element.innerHTML = '';\n",
              "          dataTable['output_type'] = 'display_data';\n",
              "          await google.colab.output.renderOutput(dataTable, element);\n",
              "          const docLink = document.createElement('div');\n",
              "          docLink.innerHTML = docLinkHtml;\n",
              "          element.appendChild(docLink);\n",
              "        }\n",
              "      </script>\n",
              "    </div>\n",
              "  </div>\n",
              "  "
            ]
          },
          "metadata": {},
          "execution_count": 15
        }
      ]
    },
    {
      "cell_type": "code",
      "source": [
        "metric_names = df_resyn.columns[2:]\n",
        "\n",
        "print('------------resyn-------------')\n",
        "for metric_name in metric_names:\n",
        "  print(f\"{metric_name}:\"+'  Mean: ' + f\"{df_resyn[metric_name].mean():.3}\"  + ' Std: ' + f\"{df_resyn[metric_name].std():.3}\")\n",
        "\n",
        "print('------------degraded-------------')\n",
        "for metric_name in metric_names:\n",
        "  print(f\"{metric_name}:\"+'  Mean: ' + f\"{df_degraded[metric_name].mean():.3}\"  + ' Std: ' + f\"{df_degraded[metric_name].std():.3}\") "
      ],
      "metadata": {
        "colab": {
          "base_uri": "https://localhost:8080/"
        },
        "id": "g7RIucS8GTU_",
        "outputId": "1477fb37-55e1-4d76-d822-891a49096a53"
      },
      "execution_count": 16,
      "outputs": [
        {
          "output_type": "stream",
          "name": "stdout",
          "text": [
            "------------resyn-------------\n",
            "MCD:  Mean: 2.97 Std: 0.696\n",
            "F0_PCC:  Mean: 0.849 Std: 0.133\n",
            "PESQ:  Mean: 2.49 Std: 0.559\n",
            "MOSNet:  Mean: 3.1 Std: 0.131\n",
            "NISQA:  Mean: 2.78 Std: 0.504\n",
            "------------degraded-------------\n",
            "MCD:  Mean: 3.62 Std: 0.798\n",
            "F0_PCC:  Mean: 0.75 Std: 0.158\n",
            "PESQ:  Mean: 1.23 Std: 0.398\n",
            "MOSNet:  Mean: 3.34 Std: 0.337\n",
            "NISQA:  Mean: 2.59 Std: 0.48\n"
          ]
        }
      ]
    },
    {
      "cell_type": "markdown",
      "source": [
        "## Scatter plots"
      ],
      "metadata": {
        "id": "Prqv4-8AJRrc"
      }
    },
    {
      "cell_type": "markdown",
      "source": [
        "Use scatter plots to see if two methods are correlated"
      ],
      "metadata": {
        "id": "ZNJGVAJ4Jni5"
      }
    },
    {
      "cell_type": "code",
      "source": [
        "#Choose two evaluation metircs: MCD, F0_PCC, PESQ, ViSQOL, MOSNet_MOS\n",
        "metrics = ['F0_PCC','PESQ']\n",
        "\n",
        "# select columns\n",
        "x_1 = df_resyn[metrics[0]]\n",
        "y_1 = df_resyn[metrics[1]]\n",
        "x_2 = df_degraded[metrics[0]]\n",
        "y_2 = df_degraded[metrics[1]]\n",
        "\n",
        "# create scatter plot\n",
        "plt_1 = plt.scatter(x_1, y_1)\n",
        "plt_2 = plt.scatter(x_2,y_2)\n",
        "\n",
        "# add title and axis labels\n",
        "plt.title(f'Scatter Plot of {metrics[0]} vs. {metrics[1]}')\n",
        "plt.xlabel(metrics[0])\n",
        "plt.ylabel(metrics[1])\n",
        "plt.legend([plt_1, plt_2], [\"resyn\", \"degraded\"])\n",
        "\n",
        "# show plot\n",
        "plt.show()"
      ],
      "metadata": {
        "colab": {
          "base_uri": "https://localhost:8080/",
          "height": 472
        },
        "id": "CU2vAe1DJeI1",
        "outputId": "9bcb0786-1f4d-4e36-f486-605c102dfe1e"
      },
      "execution_count": 19,
      "outputs": [
        {
          "output_type": "display_data",
          "data": {
            "text/plain": [
              "<Figure size 640x480 with 1 Axes>"
            ],
            "image/png": "[encoded data removed]"
          },
          "metadata": {}
        }
      ]
    },
    {
      "cell_type": "markdown",
      "source": [
        "## Correlation test"
      ],
      "metadata": {
        "id": "RcNo7PDnuxVx"
      }
    },
    {
      "cell_type": "markdown",
      "source": [
        "Correlation matrix shows the correlation coefficients between each pair of metrics. The correlation coefficient ranges from -1 to 1, where values close to 1 indicate a strong positive correlation, values close to -1 indicate a strong negative correlation, and values close to 0 indicate little to no correlation.\n",
        "\n"
      ],
      "metadata": {
        "id": "0cov2TlBv1yp"
      }
    },
    {
      "cell_type": "code",
      "source": [
        "# DataFrame with the evaluation results\n",
        "evaluation_results = df_resyn.iloc[:, 2:]\n",
        "\n",
        "# Calculate the correlation matrix\n",
        "correlation_matrix = evaluation_results.corr()\n",
        "\n",
        "# Print the correlation matrix\n",
        "print(correlation_matrix)\n"
      ],
      "metadata": {
        "colab": {
          "base_uri": "https://localhost:8080/"
        },
        "id": "Bo5J8SHLusE9",
        "outputId": "163a64fe-da08-4db6-fcb5-b14646ae6b64"
      },
      "execution_count": 20,
      "outputs": [
        {
          "output_type": "stream",
          "name": "stdout",
          "text": [
            "             MCD    F0_PCC      PESQ    MOSNet     NISQA\n",
            "MCD     1.000000 -0.698116 -0.502489 -0.446088  0.406389\n",
            "F0_PCC -0.698116  1.000000  0.620249  0.229624 -0.315103\n",
            "PESQ   -0.502489  0.620249  1.000000  0.268551  0.223800\n",
            "MOSNet -0.446088  0.229624  0.268551  1.000000 -0.384059\n",
            "NISQA   0.406389 -0.315103  0.223800 -0.384059  1.000000\n"
          ]
        }
      ]
    },
    {
      "cell_type": "code",
      "source": [
        "df_resyn_long = df_resyn[df_resyn['audio_file_name'].str.contains('long')].iloc[:, 2:]\n",
        "df_resyn_short = df_resyn[df_resyn['audio_file_name'].str.contains('short')].iloc[:, 2:]\n",
        "df_degraded_long = df_degraded[df_degraded['audio_file_name'].str.contains('long')].iloc[:, 2:]\n",
        "df_degraded_short = df_degraded[df_degraded['audio_file_name'].str.contains('short')].iloc[:, 2:]\n",
        "\n",
        "df_long = df_resyn_long.append(df_degraded_long, ignore_index=True)\n",
        "df_short = df_resyn_short.append(df_degraded_short, ignore_index=True)\n",
        "\n",
        "# Calculate the correlation matrix\n",
        "correlation_matrix_long = df_long.corr()\n",
        "correlation_matrix_short = df_short.corr()\n",
        "\n",
        "# Print the correlation matrix\n",
        "print(\"-----------------long-----------------\")\n",
        "print(correlation_matrix_long)\n",
        "print(\"----------------short-----------------\")\n",
        "print(correlation_matrix_short)"
      ],
      "metadata": {
        "colab": {
          "base_uri": "https://localhost:8080/"
        },
        "id": "-K2nEuNYPtc3",
        "outputId": "08b180b2-778f-4bb1-c6d7-1145094fdb62"
      },
      "execution_count": 21,
      "outputs": [
        {
          "output_type": "stream",
          "name": "stdout",
          "text": [
            "-----------------long-----------------\n",
            "             MCD    F0_PCC      PESQ    MOSNet     NISQA\n",
            "MCD     1.000000 -0.726483 -0.714824  0.547617 -0.254027\n",
            "F0_PCC -0.726483  1.000000  0.613035 -0.723515 -0.009527\n",
            "PESQ   -0.714824  0.613035  1.000000 -0.487097  0.516956\n",
            "MOSNet  0.547617 -0.723515 -0.487097  1.000000  0.122100\n",
            "NISQA  -0.254027 -0.009527  0.516956  0.122100  1.000000\n",
            "----------------short-----------------\n",
            "             MCD    F0_PCC      PESQ    MOSNet     NISQA\n",
            "MCD     1.000000 -0.476935 -0.543135 -0.142831 -0.746347\n",
            "F0_PCC -0.476935  1.000000  0.582379 -0.217569  0.634264\n",
            "PESQ   -0.543135  0.582379  1.000000 -0.535148  0.173991\n",
            "MOSNet -0.142831 -0.217569 -0.535148  1.000000  0.472352\n",
            "NISQA  -0.746347  0.634264  0.173991  0.472352  1.000000\n"
          ]
        },
        {
          "output_type": "stream",
          "name": "stderr",
          "text": [
            "<ipython-input-21-d569f6e2ef0d>:6: FutureWarning: The frame.append method is deprecated and will be removed from pandas in a future version. Use pandas.concat instead.\n",
            "  df_long = df_resyn_long.append(df_degraded_long, ignore_index=True)\n",
            "<ipython-input-21-d569f6e2ef0d>:7: FutureWarning: The frame.append method is deprecated and will be removed from pandas in a future version. Use pandas.concat instead.\n",
            "  df_short = df_resyn_short.append(df_degraded_short, ignore_index=True)\n"
          ]
        }
      ]
    },
    {
      "cell_type": "markdown",
      "source": [
        "## long-short analysis"
      ],
      "metadata": {
        "id": "xRpWCq-E_bje"
      }
    },
    {
      "cell_type": "code",
      "source": [
        "df_resyn_long_mean = df_resyn[df_resyn['audio_file_name'].str.contains('long')].iloc[:, 2:].mean()\n",
        "df_resyn_short_mean = df_resyn[df_resyn['audio_file_name'].str.contains('short')].iloc[:, 2:].mean()\n",
        "df_resyn_long_mean['subjective\\n MOS'] =  3.800 # to be replaced by subjective eval result\n",
        "df_resyn_short_mean['subjective\\n MOS'] = 3.900 # to be replaced by subjective eval result\n",
        "\n",
        "df_degraded_long_mean = df_degraded[df_degraded['audio_file_name'].str.contains('long')].iloc[:, 2:].mean()\n",
        "df_degraded_short_mean = df_degraded[df_degraded['audio_file_name'].str.contains('short')].iloc[:, 2:].mean()\n",
        "df_degraded_long_mean['subjective MOS'] = 2.600 # to be replaced \n",
        "df_degraded_short_mean['subjective MOS'] = 3.100 # to be replaced\n",
        "\n",
        "# Set the width of each bar\n",
        "bar_width = 0.35\n",
        "fig, (ax1, ax2) = plt.subplots(1, 2, figsize=(10, 3))\n",
        "\n",
        "# create the dataframe\n",
        "df_resyn_mean = pd.DataFrame({'long': df_resyn_long_mean.values, 'short': df_resyn_short_mean.values}, index=df_resyn_long_mean.index)\n",
        "df_degraded_mean = pd.DataFrame({'long': df_degraded_long_mean.values, 'short': df_degraded_short_mean.values}, index=df_degraded_long_mean.index)\n",
        "\n",
        "# plot\n",
        "df_resyn_mean.plot(kind='bar', rot=0, title='Resynthesized audios', ylabel='Mean Values',ylim=(0,5), ax=ax1)\n",
        "df_degraded_mean.plot(kind='bar', rot=0, title='Degraded audios', ylabel='Mean Values',ylim=(0,5), ax=ax2)"
      ],
      "metadata": {
        "colab": {
          "base_uri": "https://localhost:8080/",
          "height": 347
        },
        "id": "wi-f01yJ_f3A",
        "outputId": "46e7e9c3-c6f6-4378-bb56-2d671f453a0a"
      },
      "execution_count": 29,
      "outputs": [
        {
          "output_type": "execute_result",
          "data": {
            "text/plain": [
              "<Axes: title={'center': 'Degraded audios'}, ylabel='Mean Values'>"
            ]
          },
          "metadata": {},
          "execution_count": 29
        },
        {
          "output_type": "display_data",
          "data": {
            "text/plain": [
              "<Figure size 1000x300 with 2 Axes>"
            ],
            "image/png": "[encoded data removed]"
          },
          "metadata": {}
        }
      ]
    },
    {
      "cell_type": "markdown",
      "source": [
        "## female and male"
      ],
      "metadata": {
        "id": "OC09brTDew_7"
      }
    },
    {
      "cell_type": "code",
      "source": [
        "df_resyn_long_mean = df_resyn[df_resyn['audio_file_name'].str.contains('long')].iloc[:, 2:].mean()\n",
        "df_resyn_short_mean = df_resyn[df_resyn['audio_file_name'].str.contains('short')].iloc[:, 2:].mean()\n",
        "df_resyn_long_mean['female\\n MOS'] = 4.6 # to be replaced by subjective eval result from female\n",
        "df_resyn_short_mean['female\\n MOS'] = 5 # to be replaced by subjective eval result from female\n",
        "df_resyn_long_mean['male\\n MOS'] = 3 # to be replaced by subjective eval result from male\n",
        "df_resyn_short_mean['male\\n MOS'] = 2.8 # to be replaced by subjective eval result from male\n",
        "\n",
        "df_degraded_long_mean = df_degraded[df_degraded['audio_file_name'].str.contains('long')].iloc[:, 2:].mean()\n",
        "df_degraded_short_mean = df_degraded[df_degraded['audio_file_name'].str.contains('short')].iloc[:, 2:].mean()\n",
        "df_degraded_long_mean['female\\n MOS'] = 3.2 # to be replaced \n",
        "df_degraded_short_mean['female\\n MOS'] = 4 # to be replaced\n",
        "df_degraded_long_mean['male\\n MOS'] = 2 # to be replaced by subjective eval result from male\n",
        "df_degraded_short_mean['male\\n MOS'] = 2.2 # to be replaced by subjective eval result from male\n",
        "\n",
        "# Set the width of each bar\n",
        "bar_width = 0.35\n",
        "fig, (ax1, ax2) = plt.subplots(1, 2, figsize=(10, 3))\n",
        "\n",
        "# create the dataframe\n",
        "df_resyn_mean = pd.DataFrame({'long': df_resyn_long_mean.values, 'short': df_resyn_short_mean.values}, index=df_resyn_long_mean.index)\n",
        "df_degraded_mean = pd.DataFrame({'long': df_degraded_long_mean.values, 'short': df_degraded_short_mean.values}, index=df_degraded_long_mean.index)\n",
        "\n",
        "# plot\n",
        "df_resyn_mean.plot(kind='bar', rot=0, title='Resynthesized audios', ylabel='Mean Values',ylim=(0,5), ax=ax1)\n",
        "df_degraded_mean.plot(kind='bar', rot=0, title='Degraded audios', ylabel='Mean Values',ylim=(0,5), ax=ax2)"
      ],
      "metadata": {
        "colab": {
          "base_uri": "https://localhost:8080/",
          "height": 347
        },
        "id": "hrO4tNjfev_Z",
        "outputId": "12758376-ba9d-4c8e-c59f-98c39f06396f"
      },
      "execution_count": 30,
      "outputs": [
        {
          "output_type": "execute_result",
          "data": {
            "text/plain": [
              "<Axes: title={'center': 'Degraded audios'}, ylabel='Mean Values'>"
            ]
          },
          "metadata": {},
          "execution_count": 30
        },
        {
          "output_type": "display_data",
          "data": {
            "text/plain": [
              "<Figure size 1000x300 with 2 Axes>"
            ],
            "image/png": "[encoded data removed]"
          },
          "metadata": {}
        }
      ]
    }
  ]
}